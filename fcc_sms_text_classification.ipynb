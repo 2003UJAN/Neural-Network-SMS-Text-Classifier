{
  "cells": [
    {
      "cell_type": "code",
      "execution_count": null,
      "metadata": {
        "id": "8RZOuS9LWQvv"
      },
      "outputs": [],
      "source": [
        "# import libraries\n",
        "# try:\n",
        "#   # %tensorflow_version only exists in Colab.\n",
        "#   !pip install tf-nightly\n",
        "# except Exception:\n",
        "#   pass\n",
        "import tensorflow as tf\n",
        "import pandas as pd\n",
        "from tensorflow import keras\n",
        "# !pip install tensorflow-datasets\n",
        "import tensorflow_datasets as tfds\n",
        "import numpy as np\n",
        "import matplotlib.pyplot as plt\n",
        "\n",
        "print(tf.__version__)"
      ]
    },
    {
      "cell_type": "code",
      "execution_count": null,
      "metadata": {
        "id": "lMHwYXHXCar3"
      },
      "outputs": [],
      "source": [
        "from os.path import exists\n",
        "\n",
        "if not exists(\"./train-data.tsv\"):\n",
        "    # get data files\n",
        "    !wget https://cdn.freecodecamp.org/project-data/sms/train-data.tsv\n",
        "    !wget https://cdn.freecodecamp.org/project-data/sms/valid-data.tsv\n",
        "\n",
        "train_file_path = \"train-data.tsv\"\n",
        "test_file_path = \"valid-data.tsv\""
      ]
    },
    {
      "cell_type": "code",
      "execution_count": null,
      "metadata": {
        "id": "g_h508FEClxO"
      },
      "outputs": [],
      "source": [
        "train_data = pd.read_table(train_file_path, header=None, names=[\"spam\", \"message\"])\n",
        "train_data.head()"
      ]
    },
    {
      "cell_type": "code",
      "execution_count": null,
      "metadata": {
        "id": "zOMKywn4zReN"
      },
      "outputs": [],
      "source": [
        "train_data.isnull().sum()"
      ]
    },
    {
      "cell_type": "code",
      "execution_count": null,
      "metadata": {
        "id": "J9tD9yACG6M9"
      },
      "outputs": [],
      "source": [
        "\"\"\"\n",
        "for a better understanding, plot these counts\n",
        "\n",
        "* the number of ham is much more than that of spam!\n",
        "* the dataset is imbalanced...\n",
        "\"\"\"\n",
        "import seaborn as sns\n",
        "\n",
        "sns.countplot(x='spam', data=train_data)\n",
        "plt.show()"
      ]
    },
    {
      "cell_type": "code",
      "source": [
        "test_data = pd.read_table(test_file_path, header=None, names=[\"spam\", \"message\"])\n",
        "test_data.head()"
      ],
      "metadata": {
        "id": "aUs-2DnG0zsc"
      },
      "execution_count": null,
      "outputs": []
    },
    {
      "cell_type": "code",
      "source": [
        "test_data.isnull().sum()"
      ],
      "metadata": {
        "id": "vjJKykPL00iv"
      },
      "execution_count": null,
      "outputs": []
    },
    {
      "cell_type": "code",
      "source": [
        "train_data[\"spam\"] = train_data[\"spam\"].replace({\"ham\": 0, \"spam\": 1})\n",
        "test_data[\"spam\"] = test_data[\"spam\"].replace({\"ham\": 0, \"spam\": 1})\n",
        "train_data[\"spam\"].value_counts()"
      ],
      "metadata": {
        "id": "TkM83xZR028b"
      },
      "execution_count": null,
      "outputs": []
    },
    {
      "cell_type": "code",
      "source": [
        "\"\"\"\n",
        "data bias could negatively affect learning\n",
        "\"\"\"\n",
        "# Downsampling to balance the dataset\n",
        "ham_msg = train_data[train_data[\"spam\"] == 0]\n",
        "neg = ham_msg.shape[0]\n",
        "print(f\"negative: {neg}\")\n",
        "\n",
        "spam_msg = train_data[train_data[\"spam\"] == 1]\n",
        "pos = spam_msg.shape[0]\n",
        "print(f\"positive: {pos}\")\n",
        "\n",
        "total = neg + pos\n",
        "print(f\"total: {total}\")\n",
        "\n",
        "balanced_data = train_data"
      ],
      "metadata": {
        "id": "S0sQn7N60577"
      },
      "execution_count": null,
      "outputs": []
    },
    {
      "cell_type": "code",
      "execution_count": null,
      "metadata": {
        "id": "Dxotov85SjsC"
      },
      "outputs": [],
      "source": [
        "\"\"\"\n",
        "delete stopwords from data\n",
        "\"\"\"\n",
        "import nltk\n",
        "from nltk.corpus import stopwords\n",
        "nltk.download('stopwords')\n",
        "\n",
        "stop_words = stopwords.words('english')\n",
        "new_stopwords = [\"u\", \"ur\"]\n",
        "stop_words.extend(new_stopwords)\n",
        "\n",
        "def remove_stopwords(text):\n",
        "    imp_words = []\n",
        "\n",
        "    # Storing the important words\n",
        "    for word in str(text).split():\n",
        "        word = word.lower()\n",
        "\n",
        "        if word not in stop_words:\n",
        "            imp_words.append(word)\n",
        "\n",
        "    output = \" \".join(imp_words)\n",
        "\n",
        "    return output\n",
        "\n",
        "balanced_data['message'] = balanced_data['message'].apply(lambda text: remove_stopwords(text))\n",
        "\n",
        "# Perform the same pre-processing on test data as on training data.\n",
        "test_data['message'] = test_data['message'].apply(lambda text: remove_stopwords(text))\n",
        "\n",
        "balanced_data.head()"
      ]
    },
    {
      "cell_type": "code",
      "source": [
        "\"\"\"\n",
        "visualize data by wordcloud\n",
        "\n",
        "The results show that there are differences in the constituent words between spam and ham.\n",
        "\"\"\"\n",
        "from wordcloud import WordCloud\n",
        "def plot_word_cloud(data, typ):\n",
        "    email_corpus = \" \".join(data['message'])\n",
        "\n",
        "    plt.figure(figsize=(7, 7))\n",
        "\n",
        "    wc = WordCloud(\n",
        "        background_color='black',\n",
        "        max_words=100,\n",
        "        width=800,\n",
        "        height=400,\n",
        "        collocations=False\n",
        "    ).generate(email_corpus)\n",
        "\n",
        "    plt.imshow(wc, interpolation='bilinear')\n",
        "    plt.title(f'WordCloud for {typ} emails', fontsize=15)\n",
        "    plt.axis('off')\n",
        "    plt.show()\n",
        "\n",
        "plot_word_cloud(balanced_data[balanced_data['spam'] == 0], typ='Non-Spam')\n",
        "plot_word_cloud(balanced_data[balanced_data['spam'] == 1], typ='Spam')"
      ],
      "metadata": {
        "id": "UKNDrk0Y1Yfv"
      },
      "execution_count": null,
      "outputs": []
    },
    {
      "cell_type": "code",
      "source": [
        "\"\"\"\n",
        "split label from data\n",
        "\"\"\"\n",
        "train_labels = balanced_data.pop(\"spam\")\n",
        "test_labels = test_data.pop(\"spam\")\n",
        "\n",
        "balanced_data"
      ],
      "metadata": {
        "id": "pO9QUKAH1dTL"
      },
      "execution_count": null,
      "outputs": []
    },
    {
      "cell_type": "code",
      "source": [
        "\"\"\"\n",
        "convert dataframe to ndarray\n",
        "\"\"\"\n",
        "train_X = balanced_data[\"message\"].to_numpy()\n",
        "train_Y = train_labels.to_numpy()\n",
        "test_X = test_data[\"message\"].to_numpy()\n",
        "test_Y = test_labels.to_numpy()\n",
        "train_X"
      ],
      "metadata": {
        "id": "Q3URhDnh1hvk"
      },
      "execution_count": null,
      "outputs": []
    },
    {
      "cell_type": "code",
      "source": [
        "from tensorflow.keras.preprocessing.text import Tokenizer\n",
        "from tensorflow.keras.preprocessing.sequence import pad_sequences\n",
        "\n",
        "# Tokenize the text data\n",
        "tokenizer = Tokenizer()\n",
        "tokenizer.fit_on_texts(train_X)\n",
        "\n",
        "# Convert text to sequences\n",
        "train_sequences = tokenizer.texts_to_sequences(train_X)\n",
        "test_sequences = tokenizer.texts_to_sequences(test_X)\n",
        "\n",
        "# Pad sequences to have the same length\n",
        "# maximum sequence length\n",
        "max_len = 100\n",
        "train_sequences = pad_sequences(\n",
        "    train_sequences,\n",
        "    maxlen=max_len,\n",
        "    padding='post',\n",
        "    truncating='post'\n",
        ")\n",
        "test_sequences = pad_sequences(\n",
        "    test_sequences,\n",
        "    maxlen=max_len,\n",
        "    padding='post',\n",
        "    truncating='post'\n",
        ")\n",
        "print(train_sequences[0])"
      ],
      "metadata": {
        "id": "HtcllcoP1jl-"
      },
      "execution_count": null,
      "outputs": []
    },
    {
      "cell_type": "code",
      "source": [
        "\"\"\"\n",
        "model development\n",
        "\"\"\"\n",
        "# Build the model\n",
        "model = tf.keras.models.Sequential([\n",
        "    tf.keras.layers.Embedding(\n",
        "        input_dim=len(tokenizer.word_index) + 1,\n",
        "        output_dim=32,\n",
        "        input_length=max_len,\n",
        "        mask_zero=True,\n",
        "    ),\n",
        "    tf.keras.layers.Dropout(0.1),\n",
        "    tf.keras.layers.LSTM(16),\n",
        "    tf.keras.layers.Dense(16, activation='relu'),\n",
        "    tf.keras.layers.Dense(1, activation='sigmoid')\n",
        "])\n",
        "\n",
        "# Print the model summary\n",
        "model.summary()"
      ],
      "metadata": {
        "id": "u42avsWJ1m0D"
      },
      "execution_count": null,
      "outputs": []
    },
    {
      "cell_type": "code",
      "source": [
        "\"\"\"\n",
        "model compile\n",
        "\"\"\"\n",
        "model.compile(\n",
        "    loss = tf.keras.losses.BinaryCrossentropy(),\n",
        "    metrics=['accuracy'],\n",
        "    optimizer= tf.keras.optimizers.Adam(learning_rate=0.01, beta_1=0.9, beta_2=0.999)\n",
        ")"
      ],
      "metadata": {
        "id": "JRiQTBwU1rvA"
      },
      "execution_count": null,
      "outputs": []
    },
    {
      "cell_type": "code",
      "source": [
        "print(neg / total)"
      ],
      "metadata": {
        "id": "lPauZciG1s9b"
      },
      "execution_count": null,
      "outputs": []
    },
    {
      "cell_type": "code",
      "source": [
        "\"\"\"\n",
        "train the model\n",
        "\"\"\"\n",
        "from keras.callbacks import EarlyStopping, ReduceLROnPlateau\n",
        "# callback\n",
        "es = EarlyStopping(\n",
        "    patience=4,\n",
        "    monitor = 'val_accuracy',\n",
        "    restore_best_weights = True\n",
        ")\n",
        "\n",
        "lr = ReduceLROnPlateau(\n",
        "    patience = 2,\n",
        "    monitor = 'val_loss',\n",
        "    factor = 0.2,\n",
        "    verbose = 1\n",
        ")\n",
        "\n",
        "# training weight\n",
        "weight_for_0 = (1 / neg) * (total / 2.0)\n",
        "weight_for_1 = (1 / pos) * (total / 2.0)\n",
        "\n",
        "class_weight = {0: weight_for_0, 1: weight_for_1}\n",
        "\n",
        "# Train the model\n",
        "history = model.fit(\n",
        "    x=train_sequences,\n",
        "    y=train_Y,\n",
        "    validation_split=0.1,\n",
        "    epochs=20,\n",
        "    batch_size=32,\n",
        "    callbacks = [lr, es],\n",
        "    class_weight=class_weight\n",
        ")"
      ],
      "metadata": {
        "id": "LKvUrBNM1v5S"
      },
      "execution_count": null,
      "outputs": []
    }
  ],
  "metadata": {
    "colab": {
      "name": "fcc_sms_text_classification.ipynb",
      "private_outputs": true,
      "provenance": [],
      "toc_visible": true
    },
    "kernelspec": {
      "display_name": "Python 3",
      "name": "python3"
    },
    "language_info": {}
  },
  "nbformat": 4,
  "nbformat_minor": 0
}